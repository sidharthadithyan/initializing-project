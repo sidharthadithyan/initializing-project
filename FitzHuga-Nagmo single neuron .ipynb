{
 "cells": [
  {
   "cell_type": "code",
   "execution_count": 1,
   "metadata": {},
   "outputs": [
    {
     "ename": "ModuleNotFoundError",
     "evalue": "No module named 'numpy'",
     "output_type": "error",
     "traceback": [
      "\u001b[0;31m---------------------------------------------------------------------------\u001b[0m",
      "\u001b[0;31mModuleNotFoundError\u001b[0m                       Traceback (most recent call last)",
      "\u001b[0;32m<ipython-input-1-a4884506cf01>\u001b[0m in \u001b[0;36m<module>\u001b[0;34m\u001b[0m\n\u001b[0;32m----> 1\u001b[0;31m \u001b[0;32mimport\u001b[0m \u001b[0mnumpy\u001b[0m \u001b[0;32mas\u001b[0m \u001b[0mnp\u001b[0m\u001b[0;34m\u001b[0m\u001b[0;34m\u001b[0m\u001b[0m\n\u001b[0m\u001b[1;32m      2\u001b[0m \u001b[0;32mimport\u001b[0m \u001b[0mmatplotlib\u001b[0m\u001b[0;34m.\u001b[0m\u001b[0mpyplot\u001b[0m \u001b[0;32mas\u001b[0m \u001b[0mplt\u001b[0m\u001b[0;34m\u001b[0m\u001b[0;34m\u001b[0m\u001b[0m\n\u001b[1;32m      3\u001b[0m \u001b[0;31m#matplotlib inline\u001b[0m\u001b[0;34m\u001b[0m\u001b[0;34m\u001b[0m\u001b[0;34m\u001b[0m\u001b[0m\n\u001b[1;32m      4\u001b[0m \u001b[0;34m\u001b[0m\u001b[0m\n\u001b[1;32m      5\u001b[0m \u001b[0;32mdef\u001b[0m \u001b[0mf\u001b[0m\u001b[0;34m(\u001b[0m\u001b[0mx\u001b[0m\u001b[0;34m,\u001b[0m\u001b[0my\u001b[0m\u001b[0;34m,\u001b[0m\u001b[0mz\u001b[0m\u001b[0;34m,\u001b[0m\u001b[0mt\u001b[0m\u001b[0;34m)\u001b[0m\u001b[0;34m:\u001b[0m \u001b[0;31m# define the function f(x,t)\u001b[0m\u001b[0;34m\u001b[0m\u001b[0;34m\u001b[0m\u001b[0m\n",
      "\u001b[0;31mModuleNotFoundError\u001b[0m: No module named 'numpy'"
     ]
    }
   ],
   "source": [
    "import numpy as np\n",
    "import matplotlib.pyplot as plt\n",
    "\n",
    "\n",
    "def f(x,y,z,t): # define main function\n",
    "    return ((x-((1/3)*(x**3)))-(y)-(z*(x+1.5))+0.35)/0.08\n",
    "\n",
    "def g(x,y,t): # define the function than brings back the potential (K+)\n",
    "    return (x-0.08*y+0.7)\n",
    "\n",
    "def h(z,t): # define the inhibitory fucntion\n",
    "    return (1-z)/3.1\n",
    "\n",
    "epsilon = 0.01 # define timestep\n",
    "\n",
    "t = np.arange(0,20,epsilon) # define an array for t\n",
    "x = np.zeros(t.shape) # define an array for x\n",
    "y = np.zeros(t.shape) # define an array for y\n",
    "z = np.zeros(t.shape) # define an array for z\n",
    "\n",
    "# set initial condition\n",
    "\n",
    "x[0]= 0 \n",
    "y[0]= 0\n",
    "z[0]= 0\n",
    "\n",
    "# Euler Integration Step\n",
    "\n",
    "for i in range(1,t.shape[0]):\n",
    "    x[i] = epsilon*f(x[i-1],y[i-1],z[i-1],t[i-1])+x[i-1] \n",
    "    y[i] = epsilon*g(x[i-1],y[i-1],t[i-1])+y[i-1]\n",
    "    z[i] = epsilon*h(z[i-1],t[i-1])+z[i-1]\n",
    "\n",
    "plt.plot(t[::5],x[::5],label=\"x\")\n",
    "plt.plot(t[::5],y[::5],label=\"y\")\n",
    "plt.plot(t[::5],z[::5],label=\"z\")\n",
    "plt.xlabel(\"t\")\n",
    "plt.ylabel(\"x\")\n",
    "plt.legend()\n",
    "plt.show()"
   ]
  },
  {
   "cell_type": "code",
   "execution_count": null,
   "metadata": {},
   "outputs": [],
   "source": []
  }
 ],
 "metadata": {
  "kernelspec": {
   "display_name": "Python 3",
   "language": "python",
   "name": "python3"
  },
  "language_info": {
   "codemirror_mode": {
    "name": "ipython",
    "version": 3
   },
   "file_extension": ".py",
   "mimetype": "text/x-python",
   "name": "python",
   "nbconvert_exporter": "python",
   "pygments_lexer": "ipython3",
   "version": "3.7.3"
  }
 },
 "nbformat": 4,
 "nbformat_minor": 2
}
